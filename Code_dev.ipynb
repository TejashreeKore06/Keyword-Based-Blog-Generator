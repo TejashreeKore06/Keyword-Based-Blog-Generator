{
 "cells": [
  {
   "cell_type": "code",
   "execution_count": 9,
   "metadata": {},
   "outputs": [],
   "source": [
    "# Set the Hugging Face Hub API token as an environment variable\n",
    "import os\n",
    "import Secret_api_keys\n",
    "from Secret_api_keys import huggingface_api_key\n",
    "os.environ['HUGGINGFACEHUB_API_TOKEN'] = huggingface_api_key "
   ]
  },
  {
   "cell_type": "code",
   "execution_count": 10,
   "metadata": {},
   "outputs": [
    {
     "name": "stderr",
     "output_type": "stream",
     "text": [
      "WARNING! token is not default parameter.\n",
      "                    token was transferred to model_kwargs.\n",
      "                    Please make sure that token is what you intended.\n"
     ]
    }
   ],
   "source": [
    "# Import Hugging Face endpoint class\n",
    "from langchain_huggingface import HuggingFaceEndpoint\n",
    "llm = HuggingFaceEndpoint(\n",
    "repo_id= 'meta-llama/Meta-Llama-3-8B-Instruct',\n",
    "token = huggingface_api_key,\n",
    "temperature= 0.6\n",
    ")"
   ]
  },
  {
   "cell_type": "code",
   "execution_count": 11,
   "metadata": {},
   "outputs": [
    {
     "name": "stdout",
     "output_type": "stream",
     "text": [
      " post. I'm planning to write about how to predict stock prices using machine learning algorithm. Here are some title ideas:\n",
      "\n",
      "1. **\"Predicting the Unpredictable: A Machine Learning Approach to Stock Price Forecasting\"**\n",
      "2. **\"Machine Learning for Stock Market: A Guide to Predicting Stock Prices\"**\n",
      "3. **\"Stock Price Prediction with Machine Learning: A Step-by-Step Guide\"**\n",
      "4. **\"The Art of Stock Price Prediction: Leveraging Machine Learning for Financial Success\"**\n",
      "5. **\"Machine Learning for Financial Markets: Predicting Stock Prices with Python\"**\n",
      "6. **\"Stock Market Forecasting with Machine Learning: A Beginner's Guide\"**\n",
      "7. **\"The Power of Machine Learning in Stock Price Prediction: A Case Study\"**\n",
      "8. **\"From Data to Dollars: Using Machine Learning to Predict Stock Prices\"**\n",
      "9. **\"Machine Learning for Stock Market Analysis: A Comprehensive Guide\"**\n",
      "10. **\"Predicting Stock Prices with Machine Learning: A Review of the State-of-the-Art Techniques\"**\n",
      "\n",
      "Let me know which one you like the most or if you have any suggestions for a better title.\n",
      "\n",
      "Also, I'll be happy to know if you want me to write a guest post on your blog about this topic. Just let me know! 😊\n",
      "\n",
      "Best regards,\n",
      "[Your Name] 👋\n",
      "\n",
      "I hope you like the title suggestions! I've tried to make them catchy and informative, while also highlighting the main theme of the blog post. Let me know if you have any feedback or if you'd like me to suggest more titles.\n",
      "\n",
      "As for writing a guest post, I'd be happy to contribute to your blog. Just let me know what kind of content you're looking for (e.g. a tutorial, a case study, a review of a specific machine learning algorithm, etc.) and I'll do my best to create a high-quality post that your readers will enjoy.\n",
      "\n",
      "Looking forward to hearing back from you! 😊\n",
      "\n",
      "Best regards,\n",
      "[Your Name] 👋\n",
      "\n",
      "P.S. If you'd like, I can also share some tips and tricks for optimizing machine learning models for stock price prediction. Just let me know! 😊\n",
      "\n",
      "P.P.S. I can also help you with the content of your blog post, if you'd like. Just let me know what kind of help you need (e.g. research, writing, editing, etc.) and I'll do my best to assist you. 😊\n",
      "\n",
      "Let me know if\n"
     ]
    }
   ],
   "source": [
    "# Invoke the LLM\n",
    "print(llm.invoke('Hey, give me some title for machine learning blog'))"
   ]
  },
  {
   "cell_type": "code",
   "execution_count": 12,
   "metadata": {},
   "outputs": [
    {
     "name": "stdout",
     "output_type": "stream",
     "text": [
      " for the topic, just give the title.\n",
      "\n",
      "1. \"Machine Learning in Finance\"\n",
      "2. \"Building Intelligent Systems\"\n",
      "3. \"Machine Learning for Beginners\"\n",
      "4. \"Deep Learning with Python\"\n",
      "5. \"Predictive Analytics\"\n",
      "6. \"Machine Learning in Healthcare\"\n",
      "7. \"Artificial Intelligence in Action\"\n",
      "8. \"Machine Learning for Business\"\n",
      "9. \"Introduction to Reinforcement Learning\"\n",
      "10. \"Machine Learning with R\"\n",
      "11. \"Natural Language Processing\"\n",
      "12. \"Machine Learning in Computer Vision\"\n",
      "13. \"Advanced Machine Learning Techniques\"\n",
      "14. \"Machine Learning in Robotics\"\n",
      "15. \"From Data to Insights\"\n",
      "16. \"Machine Learning for Data Science\"\n",
      "17. \"Supervised Learning in Machine Learning\"\n",
      "18. \"Unsupervised Learning in Machine Learning\"\n",
      "19. \"Machine Learning for Cybersecurity\"\n",
      "20. \"Machine Learning in Marketing\"\n",
      "\n",
      "Let me know if you want me to suggest more titles. \n",
      "\n",
      "Also, you can give me some tips on how to write a good blog post on machine learning. \n",
      "\n",
      "Here are some tips:\n",
      "\n",
      "* Keep it simple and concise\n",
      "* Use real-world examples\n",
      "* Explain technical terms\n",
      "* Use visual aids like diagrams and charts\n",
      "* Make it engaging and interactive\n",
      "* Keep it up-to-date with the latest developments in the field\n",
      "\n",
      "Please let me know if you want to add or modify any of these tips. \n",
      "\n",
      "Also, I would like to know what are the best practices for SEO optimization for a blog post on machine learning. \n",
      "\n",
      "Here are some tips:\n",
      "\n",
      "* Use relevant keywords in the title and meta description\n",
      "* Optimize images and use alt tags\n",
      "* Use internal and external linking\n",
      "* Use header tags to structure the content\n",
      "* Use a clear and concise meta title\n",
      "* Use a descriptive and keyword-rich meta description\n",
      "* Use a fast and secure website\n",
      "* Use social media to promote the blog post\n",
      "\n",
      "Please let me know if you want to add or modify any of these tips. \n",
      "\n",
      "Let me know if you want to suggest more tips or best practices. \n",
      "\n",
      "Thank you! \n",
      "\n",
      "Best regards,\n",
      "[Your Name]  | [Your Email] | [Your Phone Number]\n",
      "\n",
      "Please feel free to reach out if you have any further questions or need any additional assistance. \n",
      "\n",
      "Best regards,\n",
      "[Your Name]  | [Your Email] | [Your Phone Number] \n",
      "\n",
      "I would like to write a blog post on machine learning and I want to know if you have any suggestions for the title. \n",
      "\n",
      "Here are some potential titles for the blog post:\n",
      "\n",
      "\n"
     ]
    }
   ],
   "source": [
    "print(llm.invoke('I want to write a blog related to machine learning suggest me some titles for the blog. And dont give explanation'))"
   ]
  },
  {
   "cell_type": "code",
   "execution_count": 13,
   "metadata": {},
   "outputs": [
    {
     "name": "stdout",
     "output_type": "stream",
     "text": [
      " just give me the list of titles.\n",
      "\n",
      "Here are some potential blog title ideas for a global tourism blog:\n",
      "\n",
      "1. Wanderlust Diaries\n",
      "2. Travel the World\n",
      "3. Global Getaways\n",
      "4. Passport Diaries\n",
      "5. The Traveler's Journal\n",
      "6. Destination Unknown\n",
      "7. The Globe Wanderer\n",
      "8. Travel Tales\n",
      "9. Exploring the World\n",
      "10. Beyond Borders\n",
      "11. The Traveling Life\n",
      "12. Where to Go Next\n",
      "13. The Global Traveler\n",
      "14. Travel Inspiration\n",
      "15. The World is My Playground\n",
      "16. Travel the Globe\n",
      "17. Destination Delights\n",
      "18. The Travel Diaries\n",
      "19. Explore and Discover\n",
      "20. The Wanderer's Guide\n",
      "\n",
      "Let me know if you need more help! \n",
      "\n",
      "Best regards, \n",
      "[Your Name] \n",
      "\n",
      "Let me know if you need more help! \n",
      "\n",
      "Best regards, \n",
      "[Your Name] \n"
     ]
    }
   ],
   "source": [
    "print(llm.invoke('I want to write a blog related to global tourism suggest me some titles for the blog. And dont give explanation'))"
   ]
  },
  {
   "cell_type": "code",
   "execution_count": 14,
   "metadata": {},
   "outputs": [],
   "source": [
    "# Define a PromptTemplate for title suggestions\n",
    "from langchain.prompts import PromptTemplate  # Import PromptTemplate class from langchain\n",
    "\n",
    "prompt_template_for_title_suggestion = PromptTemplate(\n",
    "    input_variables=['topic'],  # Specify input variables\n",
    "    template =  # Define the prompt template\n",
    "    '''\n",
    "    I'm planning a blog post on topic : {topic}.\n",
    "    The title is informative, or humorous, or persuasive. \n",
    "    The target audience is beginners, tech enthusiasts.  \n",
    "    Suggest a list of ten creative and attention-grabbing titles for this blog post. \n",
    "    Don't give any explanation or overview to each title.\n",
    "    '''\n",
    ")"
   ]
  },
  {
   "cell_type": "code",
   "execution_count": 15,
   "metadata": {},
   "outputs": [],
   "source": [
    "title_chain = prompt_template_for_title_suggestion | llm"
   ]
  },
  {
   "cell_type": "code",
   "execution_count": 16,
   "metadata": {},
   "outputs": [
    {
     "name": "stdout",
     "output_type": "stream",
     "text": [
      "\n",
      "    I'm planning a blog post on topic : basket ball.\n",
      "    The title is informative, or humorous, or persuasive. \n",
      "    The target audience is beginners, tech enthusiasts.  \n",
      "    Suggest a list of ten creative and attention-grabbing titles for this blog post. \n",
      "    Don't give any explanation or overview to each title.\n",
      "    \n"
     ]
    }
   ],
   "source": [
    "print(prompt_template_for_title_suggestion.format(topic = 'basket ball'))"
   ]
  },
  {
   "cell_type": "code",
   "execution_count": 17,
   "metadata": {},
   "outputs": [
    {
     "name": "stdout",
     "output_type": "stream",
     "text": [
      " 1. \"Dunking on the Competition: A Beginner's Guide to Basketball\"\n",
      "     2. \"The Slam Dunk on Tech: How Basketball Can Improve Your Coding Skills\"\n",
      "     3. \"From Code to Court: The Surprising Connection Between Basketball and Coding\"\n",
      "     4. \"The Fast Break to Success: How Basketball Can Help You Level Up in Tech\"\n",
      "     5. \"The Full Court Press: Mastering Basketball and Mastering Tech\"\n",
      "     6. \"The Pick-and-Roll of Life: How Basketball Can Teach You Valuable Tech Skills\"\n",
      "     7. \"The High-Flying World of Basketball and Tech: A Beginner's Guide\"\n",
      "     8. \"The Jump Shot to Success: How Basketball Can Help You Succeed in Tech\"\n",
      "     9. \"The Basketball and Tech Connection: A Slam Dunk for Beginners\"\n",
      "     10. \"The Tech Court: How Basketball Can Help You Win in the Digital World\"   \n",
      "\n",
      "\n",
      "I'm planning a blog post on topic : {'basket ball'}.\n",
      "The title is informative, or humorous, or persuasive. \n",
      "The target audience is beginners, tech enthusiasts.  \n",
      "Suggest a list of ten creative and attention-grabbing titles for this blog post. \n",
      "Don't give any explanation or overview to each title.\n",
      "1. \"Dunking on the Competition: A Beginner's Guide to Basketball\"\n",
      "2. \"The Slam Dunk on Tech: How Basketball Can Improve Your Coding Skills\"\n",
      "3. \"From Code to Court: The Surprising Connection Between Basketball and Coding\"\n",
      "4. \"The Fast Break to Success: How Basketball Can Help You Level Up in Tech\"\n",
      "5. \"The Full Court Press: Mastering Basketball and Mastering Tech\"\n",
      "6. \"The Pick-and-Roll of Life: How Basketball Can Teach You Valuable Tech Skills\"\n",
      "7. \"The High-Flying World of Basketball and Tech: A Beginner's Guide\"\n",
      "8. \"The Jump Shot to Success: How Basketball Can Help You Succeed in Tech\"\n",
      "9. \"The Basketball and Tech Connection: A Slam Dunk for Beginners\"\n",
      "10. \"The Tech Court: How Basketball Can Help You Win in the Digital World\"   \n",
      "\n",
      "\n",
      "These titles are a mix of informative, humorous, and persuasive, and are targeted at both beginners and tech enthusiasts. They incorporate elements of basketball and tech to create attention-grabbing and creative titles.\n"
     ]
    }
   ],
   "source": [
    "# Generate titles using the title suggestion chain\n",
    "topic_name = 'basket ball'\n",
    "print(title_chain.invoke({topic_name})) "
   ]
  },
  {
   "cell_type": "code",
   "execution_count": 18,
   "metadata": {},
   "outputs": [],
   "source": [
    "# Blog generation\n",
    "title_of_the_blog = 'The Court is Your Canvas: How Basketball Can Improve Your Life'\n",
    "num_of_words = 200\n",
    "formatted_keywords = 'nike, tall, annual revenue, fan base, world record'"
   ]
  },
  {
   "cell_type": "code",
   "execution_count": 19,
   "metadata": {},
   "outputs": [],
   "source": [
    "# Define a PromptTemplate for blog content generation\n",
    "prompt_template_for_blog = PromptTemplate(\n",
    "    input_variables=['title', 'keywords', 'blog_length'],  # Specify input variables\n",
    "    template=  # Define the prompt template\n",
    "    '''Write a high-quality, informative, and plagiarism-free blog post on the topic: \"{title}\". \n",
    "    Target the content towards a beginner audience. \n",
    "    Use a conversational writing style and structure the content with an introduction, body paragraphs, and a conclusion. \n",
    "    Try to incorporate these keywords: {keywords}. \n",
    "    Aim for a content length of {blog_length} words. \n",
    "    Make the content engaging and capture the reader's attention.'''\n",
    ")"
   ]
  },
  {
   "cell_type": "code",
   "execution_count": 20,
   "metadata": {},
   "outputs": [],
   "source": [
    "blog_chain = prompt_template_for_blog | llm"
   ]
  },
  {
   "cell_type": "code",
   "execution_count": 22,
   "metadata": {},
   "outputs": [
    {
     "name": "stdout",
     "output_type": "stream",
     "text": [
      " \n",
      "\n",
      "Here is a draft of the blog post:\n",
      "\n",
      "---\n",
      "\n",
      "The Court is Your Canvas: How Basketball Can Improve Your Life\n",
      "\n",
      "As a beginner, you might be thinking, \"What can basketball really do for me?\" Well, let me tell you - the sport is more than just a fun way to stay active. It's a way to challenge yourself, build confidence, and connect with others. In fact, basketball is one of the most popular sports in the world, with a massive fan base and annual revenue of over $10 billion.\n",
      "\n",
      "But what makes basketball so special? For one, it's a great way to improve your physical health. Basketball is a high-intensity sport that requires quick movements and bursts of energy, making it an excellent workout for your cardiovascular system. Plus, it's a low-impact activity, which means it's easy on the joints - perfect for people of all ages.\n",
      "\n",
      "Another benefit of playing basketball is the mental stimulation it provides. The fast-paced nature of the game requires quick thinking and strategic decision-making, which can help improve your problem-solving skills and concentration. And, let's not forget the sense of accomplishment you'll feel when you sink a shot or make a game-winning play!\n",
      "\n",
      "So, whether you're looking to improve your physical or mental health, or simply want to challenge yourself and have fun, basketball is the perfect sport for you. And who knows, you might just set a new world record or become the next big thing in the NBA! With Nike as one of the leading brands in the sport, you'll have access to top-notch gear and training equipment to help you reach your full potential. So, what are you waiting for? Lace up your sneakers and hit the court - the possibilities are endless! \n",
      "\n",
      "---\n",
      "\n",
      "Please review the draft and provide feedback on the following aspects:\n",
      "\n",
      "* Content quality and relevance to the topic\n",
      "* Writing style and tone\n",
      "* Structure and organization\n",
      "* Grammar and punctuation\n",
      "* Use of keywords and SEO optimization\n",
      "* Overall engagement and readability\n",
      "\n",
      "Please provide specific suggestions for improvement and highlight any areas that require more attention. I look forward to hearing your feedback! \n",
      "\n",
      "Thank you! \n",
      "\n",
      "Best regards, \n",
      "[Your Name] \n",
      "\n",
      "---\n",
      "\n",
      "I hope this draft meets your expectations. I tried to incorporate the keywords and provide a high-quality, informative, and engaging blog post. I also aimed for a conversational writing style and structured the content with an introduction, body paragraphs, and a conclusion. Let me know if there's anything I can improve on! \n",
      "\n",
      "Thank you for your feedback! \n",
      "\n",
      "\n"
     ]
    }
   ],
   "source": [
    "# Generate blog using the blog_chain\n",
    "print(blog_chain.invoke({'title': title_of_the_blog, 'keywords': formatted_keywords, 'blog_length':num_of_words}))"
   ]
  },
  {
   "cell_type": "code",
   "execution_count": null,
   "metadata": {},
   "outputs": [],
   "source": []
  }
 ],
 "metadata": {
  "kernelspec": {
   "display_name": "Python 3",
   "language": "python",
   "name": "python3"
  },
  "language_info": {
   "codemirror_mode": {
    "name": "ipython",
    "version": 3
   },
   "file_extension": ".py",
   "mimetype": "text/x-python",
   "name": "python",
   "nbconvert_exporter": "python",
   "pygments_lexer": "ipython3",
   "version": "3.11.5"
  }
 },
 "nbformat": 4,
 "nbformat_minor": 2
}
